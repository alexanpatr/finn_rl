{
 "cells": [
  {
   "cell_type": "code",
   "execution_count": 1,
   "id": "eeb1dba1-27cc-471b-ac5e-8d59921bdd62",
   "metadata": {},
   "outputs": [],
   "source": [
    "import onnx\n",
    "import torch\n",
    "import json\n",
    "import numpy as np\n",
    "import os\n",
    "import shutil\n",
    "import warnings\n",
    "from copy import deepcopy\n",
    "from distutils.dir_util import copy_tree\n",
    "from qonnx.core.modelwrapper import ModelWrapper\n",
    "from qonnx.transformation.general import SortGraph\n",
    "from qonnx.transformation.merge_onnx_models import MergeONNXModels\n",
    "from qonnx.transformation.insert_topk import InsertTopK\n",
    "from qonnx.core.datatype import DataType\n",
    "from qonnx.custom_op.registry import getCustomOp\n",
    "from qonnx.transformation.bipolar_to_xnor import ConvertBipolarMatMulToXnorPopcount\n",
    "from qonnx.transformation.fold_constants import FoldConstants\n",
    "from qonnx.transformation.general import (\n",
    "    ApplyConfig,\n",
    "    GiveReadableTensorNames,\n",
    "    GiveUniqueNodeNames,\n",
    "    RemoveStaticGraphInputs,\n",
    "    RemoveUnusedTensors,\n",
    ")\n",
    "from qonnx.transformation.infer_data_layouts import InferDataLayouts\n",
    "from qonnx.transformation.infer_datatypes import InferDataTypes\n",
    "from qonnx.transformation.infer_shapes import InferShapes\n",
    "from qonnx.transformation.lower_convs_to_matmul import LowerConvsToMatMul\n",
    "from qonnx.transformation.make_input_chanlast import MakeInputChannelsLast\n",
    "from qonnx.util.cleanup import cleanup as qonnx_cleanup\n",
    "from qonnx.util.cleanup import cleanup_model\n",
    "from qonnx.util.config import extract_model_config_to_json\n",
    "from shutil import copy\n",
    "\n",
    "import finn.transformation.fpgadataflow.convert_to_hw_layers as to_hw\n",
    "import finn.transformation.streamline.absorb as absorb\n",
    "from finn.analysis.fpgadataflow.dataflow_performance import dataflow_performance\n",
    "from finn.analysis.fpgadataflow.exp_cycles_per_layer import exp_cycles_per_layer\n",
    "from finn.analysis.fpgadataflow.hls_synth_res_estimation import hls_synth_res_estimation\n",
    "from finn.analysis.fpgadataflow.op_and_param_counts import (\n",
    "    aggregate_dict_keys,\n",
    "    op_and_param_counts,\n",
    ")\n",
    "from finn.analysis.fpgadataflow.res_estimation import (\n",
    "    res_estimation,\n",
    "    res_estimation_complete,\n",
    ")\n",
    "from finn.builder.build_dataflow_config import (\n",
    "    DataflowBuildConfig,\n",
    "    DataflowOutputType,\n",
    "    ShellFlowType,\n",
    "    VerificationStepType,\n",
    ")\n",
    "from finn.core.onnx_exec import execute_onnx\n",
    "from finn.core.rtlsim_exec import rtlsim_exec\n",
    "from finn.core.throughput_test import throughput_test_rtlsim\n",
    "from finn.transformation.fpgadataflow.annotate_cycles import AnnotateCycles\n",
    "from finn.transformation.fpgadataflow.compile_cppsim import CompileCppSim\n",
    "from finn.transformation.fpgadataflow.create_dataflow_partition import (\n",
    "    CreateDataflowPartition,\n",
    ")\n",
    "from finn.transformation.fpgadataflow.create_stitched_ip import CreateStitchedIP\n",
    "from finn.transformation.fpgadataflow.derive_characteristic import (\n",
    "    DeriveCharacteristic,\n",
    "    DeriveFIFOSizes,\n",
    ")\n",
    "from finn.transformation.fpgadataflow.hlssynth_ip import HLSSynthIP\n",
    "from finn.transformation.fpgadataflow.insert_dwc import InsertDWC\n",
    "from finn.transformation.fpgadataflow.insert_fifo import InsertFIFO\n",
    "from finn.transformation.fpgadataflow.make_pynq_driver import MakePYNQDriver\n",
    "from finn.transformation.fpgadataflow.make_zynq_proj import ZynqBuild\n",
    "from finn.transformation.fpgadataflow.minimize_accumulator_width import (\n",
    "    MinimizeAccumulatorWidth,\n",
    ")\n",
    "from finn.transformation.fpgadataflow.minimize_weight_bit_width import (\n",
    "    MinimizeWeightBitWidth,\n",
    ")\n",
    "from finn.transformation.fpgadataflow.prepare_cppsim import PrepareCppSim\n",
    "from finn.transformation.fpgadataflow.prepare_ip import PrepareIP\n",
    "from finn.transformation.fpgadataflow.prepare_rtlsim import PrepareRTLSim\n",
    "from finn.transformation.fpgadataflow.replace_verilog_relpaths import (\n",
    "    ReplaceVerilogRelPaths,\n",
    ")\n",
    "from finn.transformation.fpgadataflow.set_exec_mode import SetExecMode\n",
    "from finn.transformation.fpgadataflow.set_fifo_depths import (\n",
    "    InsertAndSetFIFODepths,\n",
    "    RemoveShallowFIFOs,\n",
    "    SplitLargeFIFOs,\n",
    ")\n",
    "from finn.transformation.fpgadataflow.set_folding import SetFolding\n",
    "from finn.transformation.fpgadataflow.specialize_layers import SpecializeLayers\n",
    "from finn.transformation.fpgadataflow.synth_ooc import SynthOutOfContext\n",
    "from finn.transformation.fpgadataflow.vitis_build import VitisBuild\n",
    "from finn.transformation.move_reshape import RemoveCNVtoFCFlatten\n",
    "from finn.transformation.qonnx.convert_qonnx_to_finn import ConvertQONNXtoFINN\n",
    "from finn.transformation.qonnx.quant_act_to_multithreshold import (\n",
    "    default_filter_function_generator,\n",
    ")\n",
    "from finn.transformation.streamline import Streamline\n",
    "from finn.transformation.streamline.reorder import MakeMaxPoolNHWC\n",
    "from finn.util.basic import (\n",
    "    get_rtlsim_trace_depth,\n",
    "    pyverilate_get_liveness_threshold_cycles,\n",
    ")\n",
    "from finn.util.pyverilator import verilator_fifosim\n",
    "from finn.util.test import execute_parent\n",
    "\n",
    "from finn.util.visualization import showInNetron\n",
    "from finn.util.pytorch import ToTensor\n",
    "from brevitas.onnx import export_qonnx\n",
    "\n",
    "from finn.transformation.fpgadataflow import convert_to_hw_layers as convert\n",
    "from qonnx.transformation.lower_convs_to_matmul import LowerConvsToMatMul\n",
    "from finn.transformation.streamline.round_thresholds import RoundAndClipThresholds\n",
    "%load_ext autoreload\n",
    "%autoreload 2"
   ]
  },
  {
   "cell_type": "code",
   "execution_count": 37,
   "id": "7333644c-ea70-453e-8d82-2425c996e4e1",
   "metadata": {},
   "outputs": [],
   "source": [
    "model = ModelWrapper('qonnx_lenet.onnx')\n",
    "#showInNetron('qonnx_lenet.onnx')"
   ]
  },
  {
   "cell_type": "code",
   "execution_count": 35,
   "id": "f952aa61-80f5-4713-9810-c55038412aa9",
   "metadata": {},
   "outputs": [
    {
     "name": "stdout",
     "output_type": "stream",
     "text": [
      "Stopping http://0.0.0.0:8081\n",
      "Serving 'model.onnx' at http://0.0.0.0:8081\n"
     ]
    },
    {
     "data": {
      "text/html": [
       "\n",
       "        <iframe\n",
       "            width=\"100%\"\n",
       "            height=\"400\"\n",
       "            src=\"http://localhost:8081/\"\n",
       "            frameborder=\"0\"\n",
       "            allowfullscreen\n",
       "            \n",
       "        ></iframe>\n",
       "        "
      ],
      "text/plain": [
       "<IPython.lib.display.IFrame at 0x7f4dec93fa00>"
      ]
     },
     "execution_count": 35,
     "metadata": {},
     "output_type": "execute_result"
    }
   ],
   "source": [
    "from qonnx.transformation.general import ConvertSubToAdd, ConvertDivToMul\n",
    "import finn.transformation.streamline.collapse_repeated as collapse\n",
    "import finn.transformation.streamline.reorder as reorder\n",
    "model = model.transform(ConvertSubToAdd())\n",
    "model = model.transform(ConvertDivToMul())\n",
    "\n",
    "model = model.transform(absorb.AbsorbMulIntoMultiThreshold())\n",
    "model = model.transform(absorb.AbsorbSignBiasIntoMultiThreshold())\n",
    "model = model.transform(absorb.AbsorbAddIntoMultiThreshold())\n",
    "model = model.transform(collapse.CollapseRepeatedMul())\n",
    "model = model.transform(reorder.MoveScalarMulPastConv())\n",
    "model = model.transform(reorder.MoveScalarMulPastMatMul())\n",
    "model = model.transform(collapse.CollapseRepeatedMul())\n",
    "model = model.transform(absorb.AbsorbMulIntoMultiThreshold())\n",
    "model = model.transform(collapse.CollapseRepeatedMul())\n",
    "model = model.transform(reorder.MoveMulPastMaxPool())\n",
    "model = model.transform(reorder.MoveScalarLinearPastInvariants())\n",
    "model = model.transform(reorder.MoveScalarMulPastConv())\n",
    "model = model.transform(absorb.AbsorbMulIntoMultiThreshold())\n",
    "model = model.transform(reorder.MoveMulPastMaxPool())\n",
    "model = model.transform(reorder.MoveScalarLinearPastInvariants())\n",
    "model = model.transform(collapse.CollapseRepeatedMul())\n",
    "\n",
    "for i in range(3):\n",
    "    model = model.transform(reorder.MoveScalarMulPastMatMul())\n",
    "    model = model.transform(absorb.AbsorbMulIntoMultiThreshold())\n",
    "\n",
    "model = model.transform(absorb.AbsorbScalarMulAddIntoTopK())\n",
    "\n",
    "model.save('model.onnx')\n",
    "showInNetron('model.onnx')"
   ]
  },
  {
   "cell_type": "code",
   "execution_count": 36,
   "id": "832b2b80-9054-4a80-8a9c-d5435af94f34",
   "metadata": {},
   "outputs": [
    {
     "name": "stdout",
     "output_type": "stream",
     "text": [
      "Stopping http://0.0.0.0:8081\n",
      "Serving 'model.onnx' at http://0.0.0.0:8081\n"
     ]
    },
    {
     "data": {
      "text/html": [
       "\n",
       "        <iframe\n",
       "            width=\"100%\"\n",
       "            height=\"400\"\n",
       "            src=\"http://localhost:8081/\"\n",
       "            frameborder=\"0\"\n",
       "            allowfullscreen\n",
       "            \n",
       "        ></iframe>\n",
       "        "
      ],
      "text/plain": [
       "<IPython.lib.display.IFrame at 0x7f4dec93e230>"
      ]
     },
     "execution_count": 36,
     "metadata": {},
     "output_type": "execute_result"
    }
   ],
   "source": [
    "model = model.transform(InferDataLayouts())\n",
    "model = model.transform(convert.InferPool())\n",
    "model = model.transform(LowerConvsToMatMul())\n",
    "model = model.transform(convert.InferConvInpGen())\n",
    "model = model.transform(RoundAndClipThresholds())\n",
    "model = model.transform(convert.InferQuantizedMatrixVectorActivation())\n",
    "model = model.transform(convert.InferBinaryMatrixVectorActivation())\n",
    "model = model.transform(absorb.AbsorbTransposeIntoMultiThreshold())\n",
    "model = model.transform(absorb.AbsorbConsecutiveTransposes())\n",
    "\n",
    "model = model.transform(InferDataLayouts())\n",
    "model = model.transform(RoundAndClipThresholds())\n",
    "model = model.transform(convert.InferThresholdingLayer())\n",
    "\n",
    "model = model.transform(InferDataLayouts())\n",
    "model = model.transform(convert.InferLabelSelectLayer())\n",
    "\n",
    "model = model.transform(InferDataLayouts())\n",
    "model = model.transform(RemoveCNVtoFCFlatten())\n",
    "model.save('model.onnx')\n",
    "showInNetron('model.onnx')"
   ]
  },
  {
   "cell_type": "code",
   "execution_count": 13,
   "id": "58969240-3496-4eb5-8523-ab76e4363dd4",
   "metadata": {},
   "outputs": [
    {
     "name": "stdout",
     "output_type": "stream",
     "text": [
      "Stopping http://0.0.0.0:8081\n",
      "Serving 'model.onnx' at http://0.0.0.0:8081\n"
     ]
    },
    {
     "data": {
      "text/html": [
       "\n",
       "        <iframe\n",
       "            width=\"100%\"\n",
       "            height=\"400\"\n",
       "            src=\"http://localhost:8081/\"\n",
       "            frameborder=\"0\"\n",
       "            allowfullscreen\n",
       "            \n",
       "        ></iframe>\n",
       "        "
      ],
      "text/plain": [
       "<IPython.lib.display.IFrame at 0x7f4fccd52530>"
      ]
     },
     "execution_count": 13,
     "metadata": {},
     "output_type": "execute_result"
    }
   ],
   "source": [
    "model = model.transform(collapse.CollapseRepeatedMul())\n",
    "model.save('model.onnx')\n",
    "showInNetron('model.onnx')"
   ]
  },
  {
   "cell_type": "code",
   "execution_count": 14,
   "id": "e9a735b6-03f3-4003-8333-21c1be7cb6f2",
   "metadata": {},
   "outputs": [
    {
     "name": "stdout",
     "output_type": "stream",
     "text": [
      "Stopping http://0.0.0.0:8081\n",
      "Serving 'model.onnx' at http://0.0.0.0:8081\n"
     ]
    },
    {
     "data": {
      "text/html": [
       "\n",
       "        <iframe\n",
       "            width=\"100%\"\n",
       "            height=\"400\"\n",
       "            src=\"http://localhost:8081/\"\n",
       "            frameborder=\"0\"\n",
       "            allowfullscreen\n",
       "            \n",
       "        ></iframe>\n",
       "        "
      ],
      "text/plain": [
       "<IPython.lib.display.IFrame at 0x7f4fccd51120>"
      ]
     },
     "execution_count": 14,
     "metadata": {},
     "output_type": "execute_result"
    }
   ],
   "source": [
    "model = model.transform(absorb.AbsorbMulIntoMultiThreshold())\n",
    "model.save('model.onnx')\n",
    "showInNetron('model.onnx')"
   ]
  },
  {
   "cell_type": "code",
   "execution_count": 15,
   "id": "33df8d59-166c-4a65-8cc6-39634c915a5b",
   "metadata": {},
   "outputs": [
    {
     "name": "stdout",
     "output_type": "stream",
     "text": [
      "Stopping http://0.0.0.0:8081\n",
      "Serving 'model.onnx' at http://0.0.0.0:8081\n"
     ]
    },
    {
     "data": {
      "text/html": [
       "\n",
       "        <iframe\n",
       "            width=\"100%\"\n",
       "            height=\"400\"\n",
       "            src=\"http://localhost:8081/\"\n",
       "            frameborder=\"0\"\n",
       "            allowfullscreen\n",
       "            \n",
       "        ></iframe>\n",
       "        "
      ],
      "text/plain": [
       "<IPython.lib.display.IFrame at 0x7f4fccd519c0>"
      ]
     },
     "execution_count": 15,
     "metadata": {},
     "output_type": "execute_result"
    }
   ],
   "source": [
    "model = model.transform(absorb.AbsorbAddIntoMultiThreshold())\n",
    "model.save('model.onnx')\n",
    "showInNetron('model.onnx')"
   ]
  },
  {
   "cell_type": "code",
   "execution_count": 16,
   "id": "4590c892-7d1f-4e07-890c-76f249dc3065",
   "metadata": {},
   "outputs": [
    {
     "name": "stdout",
     "output_type": "stream",
     "text": [
      "Stopping http://0.0.0.0:8081\n",
      "Serving 'model.onnx' at http://0.0.0.0:8081\n"
     ]
    },
    {
     "data": {
      "text/html": [
       "\n",
       "        <iframe\n",
       "            width=\"100%\"\n",
       "            height=\"400\"\n",
       "            src=\"http://localhost:8081/\"\n",
       "            frameborder=\"0\"\n",
       "            allowfullscreen\n",
       "            \n",
       "        ></iframe>\n",
       "        "
      ],
      "text/plain": [
       "<IPython.lib.display.IFrame at 0x7f4fccd522c0>"
      ]
     },
     "execution_count": 16,
     "metadata": {},
     "output_type": "execute_result"
    }
   ],
   "source": [
    "model = model.transform(absorb.AbsorbMulIntoMultiThreshold())\n",
    "model = model.transform(collapse.CollapseRepeatedMul())\n",
    "model.save('model.onnx')\n",
    "showInNetron('model.onnx')"
   ]
  },
  {
   "cell_type": "code",
   "execution_count": null,
   "id": "37916794-567a-4ecd-84a3-169324c14c33",
   "metadata": {},
   "outputs": [],
   "source": [
    "model = model.transform(absorb.AbsorbScalarMulAddIntoTopK())\n",
    "model = model.transform(reorder.MoveMulPastMaxPool())\n",
    "model = model.transform(reorder.MoveScalarLinearPastInvariants())\n",
    "model = model.transform(reorder.MoveScalarMulPastConv())\n",
    "model = model.transform(reorder.MoveScalarMulPastMatMul())\n",
    "model = model.transform(absorb.AbsorbMulIntoMultiThreshold())\n",
    "model = model.transform(collapse.CollapseRepeatedMul())\n",
    "model = model.transform(RoundAndClipThresholds())\n",
    "model = model.transform(InferDataLayouts())\n",
    "model = model.transform(RemoveUnusedTensors())"
   ]
  },
  {
   "cell_type": "code",
   "execution_count": 7,
   "id": "5ff5ac44-0522-40a6-98f4-985e069019ff",
   "metadata": {},
   "outputs": [
    {
     "name": "stdout",
     "output_type": "stream",
     "text": [
      "Stopping http://0.0.0.0:8081\n",
      "Serving 'model.onnx' at http://0.0.0.0:8081\n"
     ]
    },
    {
     "data": {
      "text/html": [
       "\n",
       "        <iframe\n",
       "            width=\"100%\"\n",
       "            height=\"400\"\n",
       "            src=\"http://localhost:8081/\"\n",
       "            frameborder=\"0\"\n",
       "            allowfullscreen\n",
       "            \n",
       "        ></iframe>\n",
       "        "
      ],
      "text/plain": [
       "<IPython.lib.display.IFrame at 0x7f4dedbf9960>"
      ]
     },
     "execution_count": 7,
     "metadata": {},
     "output_type": "execute_result"
    }
   ],
   "source": []
  },
  {
   "cell_type": "code",
   "execution_count": 8,
   "id": "7f0ed9ce-6dde-4ceb-81c7-71edabd0a8c9",
   "metadata": {},
   "outputs": [],
   "source": [
    "model = model.transform(InferDataLayouts())\n",
    "model = model.transform(convert.InferPool())\n",
    "model = model.transform(LowerConvsToMatMul())\n",
    "model = model.transform(convert.InferConvInpGen())\n",
    "model = model.transform(RoundAndClipThresholds())\n",
    "model = model.transform(convert.InferQuantizedMatrixVectorActivation())\n",
    "model = model.transform(convert.InferBinaryMatrixVectorActivation())\n",
    "model = model.transform(absorb.AbsorbTransposeIntoMultiThreshold())\n",
    "model = model.transform(absorb.AbsorbConsecutiveTransposes())\n",
    "\n",
    "model = model.transform(InferDataLayouts())\n",
    "model = model.transform(RoundAndClipThresholds())\n",
    "model = model.transform(convert.InferThresholdingLayer())\n",
    "\n",
    "model = model.transform(InferDataLayouts())\n",
    "model = model.transform(convert.InferLabelSelectLayer())\n",
    "\n",
    "model = model.transform(InferDataLayouts())\n",
    "model = model.transform(RemoveCNVtoFCFlatten())"
   ]
  },
  {
   "cell_type": "code",
   "execution_count": 9,
   "id": "0eee6b45-0f49-4cc3-a9ac-82a811003557",
   "metadata": {},
   "outputs": [
    {
     "name": "stdout",
     "output_type": "stream",
     "text": [
      "Stopping http://0.0.0.0:8081\n",
      "Serving 'model.onnx' at http://0.0.0.0:8081\n"
     ]
    },
    {
     "data": {
      "text/html": [
       "\n",
       "        <iframe\n",
       "            width=\"100%\"\n",
       "            height=\"400\"\n",
       "            src=\"http://localhost:8081/\"\n",
       "            frameborder=\"0\"\n",
       "            allowfullscreen\n",
       "            \n",
       "        ></iframe>\n",
       "        "
      ],
      "text/plain": [
       "<IPython.lib.display.IFrame at 0x7f4fccd514b0>"
      ]
     },
     "execution_count": 9,
     "metadata": {},
     "output_type": "execute_result"
    }
   ],
   "source": [
    "model.save('model.onnx')\n",
    "showInNetron('model.onnx')"
   ]
  },
  {
   "cell_type": "code",
   "execution_count": 55,
   "id": "e37eb1a9-9a57-4b76-bc26-ab8150016470",
   "metadata": {},
   "outputs": [],
   "source": [
    "model = ModelWrapper(\"model.onnx\")\n",
    "model = model.transform(InferDataLayouts())\n",
    "model = model.transform(convert.InferGlobalAccPoolLayer())\n",
    "model = model.transform(absorb.AbsorbTransposeIntoFlatten())\n",
    "model = model.transform(reorder.MoveScalarLinearPastInvariants())\n",
    "model = model.transform(absorb.AbsorbMulIntoMultiThreshold())\n",
    "model = model.transform(LowerConvsToMatMul())\n",
    "model = model.transform(convert.InferChannelwiseLinearLayer())\n",
    "model = model.transform(convert.InferConvInpGen())\n",
    "model = model.transform(convert.InferQuantizedMatrixVectorActivation())\n",
    "model = model.transform(convert.InferBinaryMatrixVectorActivation())\n",
    "model = model.transform(absorb.AbsorbConsecutiveTransposes())\n",
    "model = model.transform(reorder.MoveTransposePastFork())\n",
    "model = model.transform(absorb.AbsorbTransposeIntoMultiThreshold())\n",
    "model = model.transform(absorb.AbsorbConsecutiveTransposes())\n",
    "\n",
    "for i in range(8):\n",
    "    model = model.transform(reorder.MoveTransposePastJoinAdd())\n",
    "    model = model.transform(absorb.AbsorbTransposeIntoMultiThreshold())\n",
    "    model = model.transform(reorder.MoveTransposePastFork())\n",
    "    model = model.transform(absorb.AbsorbConsecutiveTransposes())"
   ]
  },
  {
   "cell_type": "code",
   "execution_count": 57,
   "id": "4b2612fb-165a-471c-b77b-9d5dadf07f19",
   "metadata": {},
   "outputs": [],
   "source": [
    "for i in range(2):\n",
    "    model = model.transform(reorder.MoveTransposePastJoinAdd())\n",
    "    model = model.transform(absorb.AbsorbTransposeIntoMultiThreshold())\n",
    "    model = model.transform(reorder.MoveTransposePastFork())\n",
    "    model = model.transform(absorb.AbsorbConsecutiveTransposes())"
   ]
  },
  {
   "cell_type": "code",
   "execution_count": 59,
   "id": "da559da8-9c98-4ecb-b9cc-231c95ff64f8",
   "metadata": {},
   "outputs": [],
   "source": [
    "for i in range(2):\n",
    "    model = model.transform(reorder.MoveTransposePastJoinAdd())\n",
    "    model = model.transform(absorb.AbsorbTransposeIntoMultiThreshold())\n",
    "    model = model.transform(reorder.MoveTransposePastFork())\n",
    "    model = model.transform(absorb.AbsorbConsecutiveTransposes())"
   ]
  },
  {
   "cell_type": "code",
   "execution_count": 61,
   "id": "4682d392-5d37-41ae-87e5-f3654ca2148c",
   "metadata": {},
   "outputs": [
    {
     "name": "stdout",
     "output_type": "stream",
     "text": [
      "Stopping http://0.0.0.0:8081\n",
      "Serving 'model2.onnx' at http://0.0.0.0:8081\n"
     ]
    },
    {
     "data": {
      "text/html": [
       "\n",
       "        <iframe\n",
       "            width=\"100%\"\n",
       "            height=\"400\"\n",
       "            src=\"http://localhost:8081/\"\n",
       "            frameborder=\"0\"\n",
       "            allowfullscreen\n",
       "            \n",
       "        ></iframe>\n",
       "        "
      ],
      "text/plain": [
       "<IPython.lib.display.IFrame at 0x7f687821b730>"
      ]
     },
     "execution_count": 61,
     "metadata": {},
     "output_type": "execute_result"
    }
   ],
   "source": [
    "model = model.transform(InferDataLayouts())\n",
    "model = model.transform(RoundAndClipThresholds())\n",
    "model = model.transform(convert.InferThresholdingLayer())\n",
    "\n",
    "model = model.transform(RemoveCNVtoFCFlatten())\n",
    "model = model.transform(InferDataLayouts())\n",
    "model = model.transform(convert.InferLabelSelectLayer())\n",
    "\n",
    "model = model.transform(convert.InferAddStreamsLayer())\n",
    "model = model.transform(convert.InferDuplicateStreamsLayer())\n",
    "model.save('model2.onnx')\n",
    "showInNetron('model2.onnx')"
   ]
  },
  {
   "cell_type": "code",
   "execution_count": null,
   "id": "539a25bc-7456-4475-83e7-6800e0a2d70c",
   "metadata": {},
   "outputs": [],
   "source": [
    "model = model.transform(absorb.AbsorbConsecutiveTransposes())\n",
    "model = model.transform(reorder.MoveTransposePastFork())\n",
    "model = model.transform(absorb.AbsorbTransposeIntoMultiThreshold())\n",
    "model = model.transform(absorb.AbsorbConsecutiveTransposes())\n",
    "\n",
    "for i in range(4):\n",
    "    model = model.transform(reorder.MoveTransposePastJoinAdd())\n",
    "    model = model.transform(absorb.AbsorbTransposeIntoMultiThreshold())\n",
    "    model = model.transform(reorder.MoveTransposePastFork())\n",
    "    model = model.transform(absorb.AbsorbConsecutiveTransposes())\n",
    "\n",
    "model = model.transform(InferDataLayouts())\n",
    "model = model.transform(RoundAndClipThresholds())\n",
    "model = model.transform(convert.InferThresholdingLayer())\n",
    "\n",
    "model = model.transform(RemoveCNVtoFCFlatten())\n",
    "model = model.transform(InferDataLayouts())\n",
    "model = model.transform(convert.InferLabelSelectLayer())\n",
    "\n",
    "model = model.transform(convert.InferAddStreamsLayer())\n",
    "model = model.transform(convert.InferDuplicateStreamsLayer())"
   ]
  }
 ],
 "metadata": {
  "kernelspec": {
   "display_name": "Python 3 (ipykernel)",
   "language": "python",
   "name": "python3"
  },
  "language_info": {
   "codemirror_mode": {
    "name": "ipython",
    "version": 3
   },
   "file_extension": ".py",
   "mimetype": "text/x-python",
   "name": "python",
   "nbconvert_exporter": "python",
   "pygments_lexer": "ipython3",
   "version": "3.10.12"
  }
 },
 "nbformat": 4,
 "nbformat_minor": 5
}
